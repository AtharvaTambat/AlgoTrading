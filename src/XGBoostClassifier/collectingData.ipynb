{
 "cells": [
  {
   "attachments": {},
   "cell_type": "markdown",
   "metadata": {},
   "source": [
    "# 1. Importing the Necessary Libraries and creating a Client Object"
   ]
  },
  {
   "cell_type": "code",
   "execution_count": 5,
   "metadata": {},
   "outputs": [
    {
     "name": "stderr",
     "output_type": "stream",
     "text": [
      "/home/atharvat/.local/lib/python3.10/site-packages/swagger_spec_validator/validator20.py:49: SwaggerValidationWarning: Found \"$ref: #/definitions/UserPreferences\" with siblings that will be overwritten. See https://stackoverflow.com/a/48114924 for more information. (path #/definitions/User/properties/preferences)\n",
      "  warnings.warn(\n"
     ]
    }
   ],
   "source": [
    "import bitmex\n",
    "import time\n",
    "import json\n",
    "import requests\n",
    "import datetime\n",
    "import pandas as pd\n",
    "from dotenv import load_dotenv\n",
    "import os\n",
    "\n",
    "load_dotenv('.env') \n",
    "\n",
    "bitmex_api_key = os.environ.get(\"API_KEY\")\n",
    "bitmex_api_secret = os.environ.get(\"API_SECRET\")\n",
    "client = bitmex.bitmex(test=False,api_key=bitmex_api_key, api_secret=bitmex_api_secret)"
   ]
  },
  {
   "attachments": {},
   "cell_type": "markdown",
   "metadata": {},
   "source": [
    "# 2. Getting the data for the past year with a certain Bin Size"
   ]
  },
  {
   "cell_type": "code",
   "execution_count": 3,
   "metadata": {},
   "outputs": [
    {
     "name": "stdout",
     "output_type": "stream",
     "text": [
      "[{'timestamp': datetime.datetime(2022, 12, 30, 9, 0, tzinfo=tzutc()), 'symbol': 'XBTUSD', 'open': 16462.0, 'high': 16494.5, 'low': 16445.5, 'close': 16494.0, 'trades': 1531, 'volume': 5892400, 'vwap': 16471.6424, 'lastSize': 500, 'turnover': 35773022103, 'homeNotional': 357.73022103000005, 'foreignNotional': 5892400.0}, {'timestamp': datetime.datetime(2022, 12, 30, 8, 0, tzinfo=tzutc()), 'symbol': 'XBTUSD', 'open': 16539.0, 'high': 16539.0, 'low': 16424.0, 'close': 16462.0, 'trades': 4648, 'volume': 19083200, 'vwap': 16472.8363, 'lastSize': 5000, 'turnover': 115846491685, 'homeNotional': 1158.4649168499998, 'foreignNotional': 19083200.0}]\n"
     ]
    }
   ],
   "source": [
    "batch_size = 1000 # Collecting data over 2 years\n",
    "binSize = '1h'\n",
    "past_data = []\n",
    "past_data = client.Trade.Trade_getBucketed(binSize=binSize, count=batch_size, symbol='XBTUSD', reverse=True).result()[0]\n",
    "\n",
    "print(past_data[:2]) # Printing only the first 2 data"
   ]
  },
  {
   "attachments": {},
   "cell_type": "markdown",
   "metadata": {},
   "source": [
    "# 3. Saving the data into a .csv file"
   ]
  },
  {
   "cell_type": "code",
   "execution_count": 4,
   "metadata": {},
   "outputs": [],
   "source": [
    "df = pd.json_normalize(past_data) # converting jsons to a panda dataframe\n",
    "cols = ['timestamp','open','high','low','close','volume']\n",
    "df = df[cols]\n",
    "df.to_csv('XBTUSD.csv', encoding='utf-8', index=False) # saving the data in a .csv file"
   ]
  }
 ],
 "metadata": {
  "kernelspec": {
   "display_name": "Python 3",
   "language": "python",
   "name": "python3"
  },
  "language_info": {
   "codemirror_mode": {
    "name": "ipython",
    "version": 3
   },
   "file_extension": ".py",
   "mimetype": "text/x-python",
   "name": "python",
   "nbconvert_exporter": "python",
   "pygments_lexer": "ipython3",
   "version": "3.10.6 (main, Nov 14 2022, 16:10:14) [GCC 11.3.0]"
  },
  "orig_nbformat": 4,
  "vscode": {
   "interpreter": {
    "hash": "916dbcbb3f70747c44a77c7bcd40155683ae19c65e1c03b4aa3499c5328201f1"
   }
  }
 },
 "nbformat": 4,
 "nbformat_minor": 2
}
