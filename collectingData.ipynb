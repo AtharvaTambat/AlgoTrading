{
 "cells": [
  {
   "attachments": {},
   "cell_type": "markdown",
   "metadata": {},
   "source": [
    "# 1. Importing the Necessary Libraries and creating a Client Object"
   ]
  },
  {
   "cell_type": "code",
   "execution_count": 11,
   "metadata": {},
   "outputs": [],
   "source": [
    "import bitmex\n",
    "import time\n",
    "import json\n",
    "import requests\n",
    "import datetime\n",
    "import pandas as pd\n",
    "from dotenv import load_dotenv\n",
    "import os\n",
    "\n",
    "load_dotenv('.env') \n",
    "\n",
    "bitmex_api_key = os.environ.get(\"API_KEY\")\n",
    "bitmex_api_secret = os.environ.get(\"API_SECRET\")\n",
    "client = bitmex.bitmex(test=False,api_key=bitmex_api_key, api_secret=bitmex_api_secret)"
   ]
  },
  {
   "attachments": {},
   "cell_type": "markdown",
   "metadata": {},
   "source": [
    "# 2. Getting the data for the past year with a certain Bin Size"
   ]
  },
  {
   "cell_type": "code",
   "execution_count": 13,
   "metadata": {},
   "outputs": [
    {
     "name": "stdout",
     "output_type": "stream",
     "text": [
      "[{'timestamp': datetime.datetime(2022, 12, 24, 23, 0, tzinfo=tzutc()), 'symbol': 'XBTUSD', 'open': 16832.0, 'high': 16832.0, 'low': 16820.0, 'close': 16823.5, 'trades': 623, 'volume': 2975100, 'vwap': 16825.9523, 'lastSize': 100, 'turnover': 17681624098, 'homeNotional': 176.81624097999995, 'foreignNotional': 2975100.0}, {'timestamp': datetime.datetime(2022, 12, 24, 22, 0, tzinfo=tzutc()), 'symbol': 'XBTUSD', 'open': 16840.0, 'high': 16849.0, 'low': 16822.5, 'close': 16832.0, 'trades': 738, 'volume': 2105400, 'vwap': 16839.8647, 'lastSize': 10500, 'turnover': 12502492060, 'homeNotional': 125.0249206, 'foreignNotional': 2105400.0}]\n"
     ]
    }
   ],
   "source": [
    "number_days = 365\n",
    "binSize = '1h'\n",
    "past_data = []\n",
    "past_data = client.Trade.Trade_getBucketed(binSize=binSize, count=number_days, symbol='XBTUSD', reverse=True).result()[0]\n",
    "\n",
    "print(past_data[:2]) # Printing only the first 4 data"
   ]
  }
 ],
 "metadata": {
  "kernelspec": {
   "display_name": "Python 3",
   "language": "python",
   "name": "python3"
  },
  "language_info": {
   "codemirror_mode": {
    "name": "ipython",
    "version": 3
   },
   "file_extension": ".py",
   "mimetype": "text/x-python",
   "name": "python",
   "nbconvert_exporter": "python",
   "pygments_lexer": "ipython3",
   "version": "3.10.6"
  },
  "orig_nbformat": 4,
  "vscode": {
   "interpreter": {
    "hash": "916dbcbb3f70747c44a77c7bcd40155683ae19c65e1c03b4aa3499c5328201f1"
   }
  }
 },
 "nbformat": 4,
 "nbformat_minor": 2
}
